{
 "cells": [
  {
   "cell_type": "markdown",
   "metadata": {},
   "source": [
    "### DSA5105 Project\n",
    "\n",
    "Author: Zhao Peiduo\n",
    "\n",
    "AY2024/25 Sem 1"
   ]
  },
  {
   "cell_type": "markdown",
   "metadata": {},
   "source": [
    "#### Quick Start\n",
    "\n",
    "You can install the relevant dependencies by running the commands below in a virtual environment (recommended):\n",
    "\n",
    "```\n",
    "pip install ucimlrepo scikit-learn matplotlib seaborn\n",
    "```"
   ]
  },
  {
   "cell_type": "markdown",
   "metadata": {},
   "source": [
    "#### Summary of the Project Components\n",
    "\n",
    "With Reference to the grading scheme, this project will cover 3 supervised learning techniques and 2 unsupervised learning techniques. In particular:\n",
    "- Supervised Learning: Support Vector Machine(SVM), Neural Network(MLP), Random Forest (of Decision Trees)\n",
    "- Unsupervised Learning: PCA(for feature selection), K-means, Gaussian Mixture Model(GMM)\n",
    "\n",
    "The structure of the project is as follows:\n",
    "1. Introduction and Dataset Overview\n",
    "2. EDA and data preprocessing\n",
    "3. Supervised Learning Methods\n",
    "4. Unsupervised Learning Methods\n",
    "5. Conclusion"
   ]
  },
  {
   "cell_type": "markdown",
   "metadata": {},
   "source": [
    "#### Import the dataset and necessary libraries"
   ]
  },
  {
   "cell_type": "code",
   "execution_count": 193,
   "metadata": {},
   "outputs": [],
   "source": [
    "from ucimlrepo import fetch_ucirepo \n",
    "import pandas as pd\n",
    "import numpy as np\n",
    "import matplotlib.pyplot as plt\n",
    "import seaborn as sns\n",
    "from sklearn.preprocessing import OneHotEncoder, StandardScaler\n",
    "from sklearn.decomposition import PCA\n",
    "from sklearn.model_selection import GridSearchCV\n",
    "from sklearn.svm import SVC\n",
    "from sklearn.linear_model import LogisticRegression\n",
    "from sklearn.ensemble import RandomForestClassifier\n",
    "from sklearn.neural_network import MLPClassifier\n",
    "from sklearn.cluster import KMeans\n",
    "from sklearn.mixture import GaussianMixture\n",
    "from sklearn.metrics import accuracy_score, classification_report, confusion_matrix"
   ]
  },
  {
   "cell_type": "code",
   "execution_count": 194,
   "metadata": {},
   "outputs": [],
   "source": [
    "# fetch dataset \n",
    "heart_disease = fetch_ucirepo(id=45) \n",
    "  \n",
    "# data (as pandas dataframes) \n",
    "X = heart_disease.data.features \n",
    "y = heart_disease.data.targets "
   ]
  },
  {
   "cell_type": "markdown",
   "metadata": {},
   "source": [
    "#### 1. Introduction and Dataset Overview\n",
    "\n",
    "The dataset used for this project is from UC Irvine Machine Learning Repository, containing data features for patients who are diagnosed with coronary artery disease (a form of heart disease) and patients who do not have such disease. \n",
    "\n",
    "This dataset contains both integer and categorical features, and the categorical features with more than two categories need to be one-hot encoded since its value does not represent a magnitude (which implies an order) but a category. This is to avoid the case that machine learning models interpret these features' numerical values literally and attempt to *regress* to the categorical values."
   ]
  },
  {
   "cell_type": "code",
   "execution_count": 195,
   "metadata": {},
   "outputs": [
    {
     "data": {
      "text/html": [
       "<div>\n",
       "<style scoped>\n",
       "    .dataframe tbody tr th:only-of-type {\n",
       "        vertical-align: middle;\n",
       "    }\n",
       "\n",
       "    .dataframe tbody tr th {\n",
       "        vertical-align: top;\n",
       "    }\n",
       "\n",
       "    .dataframe thead th {\n",
       "        text-align: right;\n",
       "    }\n",
       "</style>\n",
       "<table border=\"1\" class=\"dataframe\">\n",
       "  <thead>\n",
       "    <tr style=\"text-align: right;\">\n",
       "      <th></th>\n",
       "      <th>name</th>\n",
       "      <th>role</th>\n",
       "      <th>type</th>\n",
       "      <th>demographic</th>\n",
       "      <th>description</th>\n",
       "      <th>units</th>\n",
       "      <th>missing_values</th>\n",
       "    </tr>\n",
       "  </thead>\n",
       "  <tbody>\n",
       "    <tr>\n",
       "      <th>0</th>\n",
       "      <td>age</td>\n",
       "      <td>Feature</td>\n",
       "      <td>Integer</td>\n",
       "      <td>Age</td>\n",
       "      <td>None</td>\n",
       "      <td>years</td>\n",
       "      <td>no</td>\n",
       "    </tr>\n",
       "    <tr>\n",
       "      <th>1</th>\n",
       "      <td>sex</td>\n",
       "      <td>Feature</td>\n",
       "      <td>Categorical</td>\n",
       "      <td>Sex</td>\n",
       "      <td>None</td>\n",
       "      <td>None</td>\n",
       "      <td>no</td>\n",
       "    </tr>\n",
       "    <tr>\n",
       "      <th>2</th>\n",
       "      <td>cp</td>\n",
       "      <td>Feature</td>\n",
       "      <td>Categorical</td>\n",
       "      <td>None</td>\n",
       "      <td>None</td>\n",
       "      <td>None</td>\n",
       "      <td>no</td>\n",
       "    </tr>\n",
       "    <tr>\n",
       "      <th>3</th>\n",
       "      <td>trestbps</td>\n",
       "      <td>Feature</td>\n",
       "      <td>Integer</td>\n",
       "      <td>None</td>\n",
       "      <td>resting blood pressure (on admission to the ho...</td>\n",
       "      <td>mm Hg</td>\n",
       "      <td>no</td>\n",
       "    </tr>\n",
       "    <tr>\n",
       "      <th>4</th>\n",
       "      <td>chol</td>\n",
       "      <td>Feature</td>\n",
       "      <td>Integer</td>\n",
       "      <td>None</td>\n",
       "      <td>serum cholestoral</td>\n",
       "      <td>mg/dl</td>\n",
       "      <td>no</td>\n",
       "    </tr>\n",
       "    <tr>\n",
       "      <th>5</th>\n",
       "      <td>fbs</td>\n",
       "      <td>Feature</td>\n",
       "      <td>Categorical</td>\n",
       "      <td>None</td>\n",
       "      <td>fasting blood sugar &gt; 120 mg/dl</td>\n",
       "      <td>None</td>\n",
       "      <td>no</td>\n",
       "    </tr>\n",
       "    <tr>\n",
       "      <th>6</th>\n",
       "      <td>restecg</td>\n",
       "      <td>Feature</td>\n",
       "      <td>Categorical</td>\n",
       "      <td>None</td>\n",
       "      <td>None</td>\n",
       "      <td>None</td>\n",
       "      <td>no</td>\n",
       "    </tr>\n",
       "    <tr>\n",
       "      <th>7</th>\n",
       "      <td>thalach</td>\n",
       "      <td>Feature</td>\n",
       "      <td>Integer</td>\n",
       "      <td>None</td>\n",
       "      <td>maximum heart rate achieved</td>\n",
       "      <td>None</td>\n",
       "      <td>no</td>\n",
       "    </tr>\n",
       "    <tr>\n",
       "      <th>8</th>\n",
       "      <td>exang</td>\n",
       "      <td>Feature</td>\n",
       "      <td>Categorical</td>\n",
       "      <td>None</td>\n",
       "      <td>exercise induced angina</td>\n",
       "      <td>None</td>\n",
       "      <td>no</td>\n",
       "    </tr>\n",
       "    <tr>\n",
       "      <th>9</th>\n",
       "      <td>oldpeak</td>\n",
       "      <td>Feature</td>\n",
       "      <td>Integer</td>\n",
       "      <td>None</td>\n",
       "      <td>ST depression induced by exercise relative to ...</td>\n",
       "      <td>None</td>\n",
       "      <td>no</td>\n",
       "    </tr>\n",
       "    <tr>\n",
       "      <th>10</th>\n",
       "      <td>slope</td>\n",
       "      <td>Feature</td>\n",
       "      <td>Categorical</td>\n",
       "      <td>None</td>\n",
       "      <td>None</td>\n",
       "      <td>None</td>\n",
       "      <td>no</td>\n",
       "    </tr>\n",
       "    <tr>\n",
       "      <th>11</th>\n",
       "      <td>ca</td>\n",
       "      <td>Feature</td>\n",
       "      <td>Integer</td>\n",
       "      <td>None</td>\n",
       "      <td>number of major vessels (0-3) colored by flour...</td>\n",
       "      <td>None</td>\n",
       "      <td>yes</td>\n",
       "    </tr>\n",
       "    <tr>\n",
       "      <th>12</th>\n",
       "      <td>thal</td>\n",
       "      <td>Feature</td>\n",
       "      <td>Categorical</td>\n",
       "      <td>None</td>\n",
       "      <td>None</td>\n",
       "      <td>None</td>\n",
       "      <td>yes</td>\n",
       "    </tr>\n",
       "    <tr>\n",
       "      <th>13</th>\n",
       "      <td>num</td>\n",
       "      <td>Target</td>\n",
       "      <td>Integer</td>\n",
       "      <td>None</td>\n",
       "      <td>diagnosis of heart disease</td>\n",
       "      <td>None</td>\n",
       "      <td>no</td>\n",
       "    </tr>\n",
       "  </tbody>\n",
       "</table>\n",
       "</div>"
      ],
      "text/plain": [
       "        name     role         type demographic  \\\n",
       "0        age  Feature      Integer         Age   \n",
       "1        sex  Feature  Categorical         Sex   \n",
       "2         cp  Feature  Categorical        None   \n",
       "3   trestbps  Feature      Integer        None   \n",
       "4       chol  Feature      Integer        None   \n",
       "5        fbs  Feature  Categorical        None   \n",
       "6    restecg  Feature  Categorical        None   \n",
       "7    thalach  Feature      Integer        None   \n",
       "8      exang  Feature  Categorical        None   \n",
       "9    oldpeak  Feature      Integer        None   \n",
       "10     slope  Feature  Categorical        None   \n",
       "11        ca  Feature      Integer        None   \n",
       "12      thal  Feature  Categorical        None   \n",
       "13       num   Target      Integer        None   \n",
       "\n",
       "                                          description  units missing_values  \n",
       "0                                                None  years             no  \n",
       "1                                                None   None             no  \n",
       "2                                                None   None             no  \n",
       "3   resting blood pressure (on admission to the ho...  mm Hg             no  \n",
       "4                                   serum cholestoral  mg/dl             no  \n",
       "5                     fasting blood sugar > 120 mg/dl   None             no  \n",
       "6                                                None   None             no  \n",
       "7                         maximum heart rate achieved   None             no  \n",
       "8                             exercise induced angina   None             no  \n",
       "9   ST depression induced by exercise relative to ...   None             no  \n",
       "10                                               None   None             no  \n",
       "11  number of major vessels (0-3) colored by flour...   None            yes  \n",
       "12                                               None   None            yes  \n",
       "13                         diagnosis of heart disease   None             no  "
      ]
     },
     "execution_count": 195,
     "metadata": {},
     "output_type": "execute_result"
    }
   ],
   "source": [
    "heart_disease.variables"
   ]
  },
  {
   "cell_type": "markdown",
   "metadata": {},
   "source": [
    "The feature set contains 13 unique features with 303 data points, which is relatively a small dataset. This would imply that we have to be more careful in feature exploration and selections so as to avoid the risk of overfitting and the curse of dimensionality due to too many features. "
   ]
  },
  {
   "cell_type": "code",
   "execution_count": 196,
   "metadata": {},
   "outputs": [
    {
     "name": "stdout",
     "output_type": "stream",
     "text": [
      "<class 'pandas.core.frame.DataFrame'>\n",
      "RangeIndex: 303 entries, 0 to 302\n",
      "Data columns (total 13 columns):\n",
      " #   Column    Non-Null Count  Dtype  \n",
      "---  ------    --------------  -----  \n",
      " 0   age       303 non-null    int64  \n",
      " 1   sex       303 non-null    int64  \n",
      " 2   cp        303 non-null    int64  \n",
      " 3   trestbps  303 non-null    int64  \n",
      " 4   chol      303 non-null    int64  \n",
      " 5   fbs       303 non-null    int64  \n",
      " 6   restecg   303 non-null    int64  \n",
      " 7   thalach   303 non-null    int64  \n",
      " 8   exang     303 non-null    int64  \n",
      " 9   oldpeak   303 non-null    float64\n",
      " 10  slope     303 non-null    int64  \n",
      " 11  ca        299 non-null    float64\n",
      " 12  thal      301 non-null    float64\n",
      "dtypes: float64(3), int64(10)\n",
      "memory usage: 30.9 KB\n",
      "None\n"
     ]
    },
    {
     "data": {
      "text/html": [
       "<div>\n",
       "<style scoped>\n",
       "    .dataframe tbody tr th:only-of-type {\n",
       "        vertical-align: middle;\n",
       "    }\n",
       "\n",
       "    .dataframe tbody tr th {\n",
       "        vertical-align: top;\n",
       "    }\n",
       "\n",
       "    .dataframe thead th {\n",
       "        text-align: right;\n",
       "    }\n",
       "</style>\n",
       "<table border=\"1\" class=\"dataframe\">\n",
       "  <thead>\n",
       "    <tr style=\"text-align: right;\">\n",
       "      <th></th>\n",
       "      <th>age</th>\n",
       "      <th>sex</th>\n",
       "      <th>cp</th>\n",
       "      <th>trestbps</th>\n",
       "      <th>chol</th>\n",
       "      <th>fbs</th>\n",
       "      <th>restecg</th>\n",
       "      <th>thalach</th>\n",
       "      <th>exang</th>\n",
       "      <th>oldpeak</th>\n",
       "      <th>slope</th>\n",
       "      <th>ca</th>\n",
       "      <th>thal</th>\n",
       "    </tr>\n",
       "  </thead>\n",
       "  <tbody>\n",
       "    <tr>\n",
       "      <th>0</th>\n",
       "      <td>63</td>\n",
       "      <td>1</td>\n",
       "      <td>1</td>\n",
       "      <td>145</td>\n",
       "      <td>233</td>\n",
       "      <td>1</td>\n",
       "      <td>2</td>\n",
       "      <td>150</td>\n",
       "      <td>0</td>\n",
       "      <td>2.3</td>\n",
       "      <td>3</td>\n",
       "      <td>0.0</td>\n",
       "      <td>6.0</td>\n",
       "    </tr>\n",
       "    <tr>\n",
       "      <th>1</th>\n",
       "      <td>67</td>\n",
       "      <td>1</td>\n",
       "      <td>4</td>\n",
       "      <td>160</td>\n",
       "      <td>286</td>\n",
       "      <td>0</td>\n",
       "      <td>2</td>\n",
       "      <td>108</td>\n",
       "      <td>1</td>\n",
       "      <td>1.5</td>\n",
       "      <td>2</td>\n",
       "      <td>3.0</td>\n",
       "      <td>3.0</td>\n",
       "    </tr>\n",
       "    <tr>\n",
       "      <th>2</th>\n",
       "      <td>67</td>\n",
       "      <td>1</td>\n",
       "      <td>4</td>\n",
       "      <td>120</td>\n",
       "      <td>229</td>\n",
       "      <td>0</td>\n",
       "      <td>2</td>\n",
       "      <td>129</td>\n",
       "      <td>1</td>\n",
       "      <td>2.6</td>\n",
       "      <td>2</td>\n",
       "      <td>2.0</td>\n",
       "      <td>7.0</td>\n",
       "    </tr>\n",
       "    <tr>\n",
       "      <th>3</th>\n",
       "      <td>37</td>\n",
       "      <td>1</td>\n",
       "      <td>3</td>\n",
       "      <td>130</td>\n",
       "      <td>250</td>\n",
       "      <td>0</td>\n",
       "      <td>0</td>\n",
       "      <td>187</td>\n",
       "      <td>0</td>\n",
       "      <td>3.5</td>\n",
       "      <td>3</td>\n",
       "      <td>0.0</td>\n",
       "      <td>3.0</td>\n",
       "    </tr>\n",
       "    <tr>\n",
       "      <th>4</th>\n",
       "      <td>41</td>\n",
       "      <td>0</td>\n",
       "      <td>2</td>\n",
       "      <td>130</td>\n",
       "      <td>204</td>\n",
       "      <td>0</td>\n",
       "      <td>2</td>\n",
       "      <td>172</td>\n",
       "      <td>0</td>\n",
       "      <td>1.4</td>\n",
       "      <td>1</td>\n",
       "      <td>0.0</td>\n",
       "      <td>3.0</td>\n",
       "    </tr>\n",
       "  </tbody>\n",
       "</table>\n",
       "</div>"
      ],
      "text/plain": [
       "   age  sex  cp  trestbps  chol  fbs  restecg  thalach  exang  oldpeak  slope  \\\n",
       "0   63    1   1       145   233    1        2      150      0      2.3      3   \n",
       "1   67    1   4       160   286    0        2      108      1      1.5      2   \n",
       "2   67    1   4       120   229    0        2      129      1      2.6      2   \n",
       "3   37    1   3       130   250    0        0      187      0      3.5      3   \n",
       "4   41    0   2       130   204    0        2      172      0      1.4      1   \n",
       "\n",
       "    ca  thal  \n",
       "0  0.0   6.0  \n",
       "1  3.0   3.0  \n",
       "2  2.0   7.0  \n",
       "3  0.0   3.0  \n",
       "4  0.0   3.0  "
      ]
     },
     "execution_count": 196,
     "metadata": {},
     "output_type": "execute_result"
    }
   ],
   "source": [
    "print(X.info())\n",
    "X.head()"
   ]
  },
  {
   "cell_type": "markdown",
   "metadata": {},
   "source": [
    "Drop entries with null values"
   ]
  },
  {
   "cell_type": "code",
   "execution_count": 197,
   "metadata": {},
   "outputs": [],
   "source": [
    "X = X.loc[~X[\"thal\"].isna() & ~X[\"ca\"].isna()]\n",
    "y = y.loc[X.index]  # Ensure y is filtered to match the indices of X"
   ]
  },
  {
   "cell_type": "markdown",
   "metadata": {},
   "source": [
    "In terms of the class labels, there are 5 unique class labels given in the dataset. From the [documentation](https://archive.ics.uci.edu/dataset/45/heart+disease), 0 represents the absence of heart disease while 1 to 4 represents a presence (supposedly for different stages / intensity).\n",
    "\n",
    "Given the small dataset size, this project will merge the four presence classes into a single class and reduce the task to binary classification: To predict if a patient has heart disease given the features."
   ]
  },
  {
   "cell_type": "code",
   "execution_count": 198,
   "metadata": {},
   "outputs": [
    {
     "data": {
      "text/plain": [
       "num\n",
       "0      160\n",
       "1       54\n",
       "2       35\n",
       "3       35\n",
       "4       13\n",
       "Name: count, dtype: int64"
      ]
     },
     "execution_count": 198,
     "metadata": {},
     "output_type": "execute_result"
    }
   ],
   "source": [
    "y.value_counts()"
   ]
  },
  {
   "cell_type": "markdown",
   "metadata": {},
   "source": [
    "After merging the four classes, we have 160 samples belonging to class 0 (absence) and 137 samples belonging to class 1 (presence)."
   ]
  },
  {
   "cell_type": "code",
   "execution_count": 199,
   "metadata": {},
   "outputs": [
    {
     "data": {
      "text/plain": [
       "num\n",
       "0    160\n",
       "1    137\n",
       "Name: count, dtype: int64"
      ]
     },
     "execution_count": 199,
     "metadata": {},
     "output_type": "execute_result"
    }
   ],
   "source": [
    "y_binarized = y[\"num\"].copy()\n",
    "other_class_mask = y_binarized.isin([2, 3, 4]) \n",
    "y_binarized.iloc[other_class_mask] = 1\n",
    "y_binarized.value_counts()"
   ]
  },
  {
   "cell_type": "markdown",
   "metadata": {},
   "source": [
    "#### EDA and Data Preprocessing\n",
    "\n",
    "This section visualizes and selects useful features for model training"
   ]
  },
  {
   "cell_type": "markdown",
   "metadata": {},
   "source": [
    "Statistics for the feature set"
   ]
  },
  {
   "cell_type": "code",
   "execution_count": 200,
   "metadata": {},
   "outputs": [
    {
     "data": {
      "text/html": [
       "<div>\n",
       "<style scoped>\n",
       "    .dataframe tbody tr th:only-of-type {\n",
       "        vertical-align: middle;\n",
       "    }\n",
       "\n",
       "    .dataframe tbody tr th {\n",
       "        vertical-align: top;\n",
       "    }\n",
       "\n",
       "    .dataframe thead th {\n",
       "        text-align: right;\n",
       "    }\n",
       "</style>\n",
       "<table border=\"1\" class=\"dataframe\">\n",
       "  <thead>\n",
       "    <tr style=\"text-align: right;\">\n",
       "      <th></th>\n",
       "      <th>age</th>\n",
       "      <th>sex</th>\n",
       "      <th>cp</th>\n",
       "      <th>trestbps</th>\n",
       "      <th>chol</th>\n",
       "      <th>fbs</th>\n",
       "      <th>restecg</th>\n",
       "      <th>thalach</th>\n",
       "      <th>exang</th>\n",
       "      <th>oldpeak</th>\n",
       "      <th>slope</th>\n",
       "      <th>ca</th>\n",
       "      <th>thal</th>\n",
       "    </tr>\n",
       "  </thead>\n",
       "  <tbody>\n",
       "    <tr>\n",
       "      <th>count</th>\n",
       "      <td>297.000000</td>\n",
       "      <td>297.000000</td>\n",
       "      <td>297.000000</td>\n",
       "      <td>297.000000</td>\n",
       "      <td>297.000000</td>\n",
       "      <td>297.000000</td>\n",
       "      <td>297.000000</td>\n",
       "      <td>297.000000</td>\n",
       "      <td>297.000000</td>\n",
       "      <td>297.000000</td>\n",
       "      <td>297.000000</td>\n",
       "      <td>297.000000</td>\n",
       "      <td>297.000000</td>\n",
       "    </tr>\n",
       "    <tr>\n",
       "      <th>mean</th>\n",
       "      <td>54.542088</td>\n",
       "      <td>0.676768</td>\n",
       "      <td>3.158249</td>\n",
       "      <td>131.693603</td>\n",
       "      <td>247.350168</td>\n",
       "      <td>0.144781</td>\n",
       "      <td>0.996633</td>\n",
       "      <td>149.599327</td>\n",
       "      <td>0.326599</td>\n",
       "      <td>1.055556</td>\n",
       "      <td>1.602694</td>\n",
       "      <td>0.676768</td>\n",
       "      <td>4.730640</td>\n",
       "    </tr>\n",
       "    <tr>\n",
       "      <th>std</th>\n",
       "      <td>9.049736</td>\n",
       "      <td>0.468500</td>\n",
       "      <td>0.964859</td>\n",
       "      <td>17.762806</td>\n",
       "      <td>51.997583</td>\n",
       "      <td>0.352474</td>\n",
       "      <td>0.994914</td>\n",
       "      <td>22.941562</td>\n",
       "      <td>0.469761</td>\n",
       "      <td>1.166123</td>\n",
       "      <td>0.618187</td>\n",
       "      <td>0.938965</td>\n",
       "      <td>1.938629</td>\n",
       "    </tr>\n",
       "    <tr>\n",
       "      <th>min</th>\n",
       "      <td>29.000000</td>\n",
       "      <td>0.000000</td>\n",
       "      <td>1.000000</td>\n",
       "      <td>94.000000</td>\n",
       "      <td>126.000000</td>\n",
       "      <td>0.000000</td>\n",
       "      <td>0.000000</td>\n",
       "      <td>71.000000</td>\n",
       "      <td>0.000000</td>\n",
       "      <td>0.000000</td>\n",
       "      <td>1.000000</td>\n",
       "      <td>0.000000</td>\n",
       "      <td>3.000000</td>\n",
       "    </tr>\n",
       "    <tr>\n",
       "      <th>25%</th>\n",
       "      <td>48.000000</td>\n",
       "      <td>0.000000</td>\n",
       "      <td>3.000000</td>\n",
       "      <td>120.000000</td>\n",
       "      <td>211.000000</td>\n",
       "      <td>0.000000</td>\n",
       "      <td>0.000000</td>\n",
       "      <td>133.000000</td>\n",
       "      <td>0.000000</td>\n",
       "      <td>0.000000</td>\n",
       "      <td>1.000000</td>\n",
       "      <td>0.000000</td>\n",
       "      <td>3.000000</td>\n",
       "    </tr>\n",
       "    <tr>\n",
       "      <th>50%</th>\n",
       "      <td>56.000000</td>\n",
       "      <td>1.000000</td>\n",
       "      <td>3.000000</td>\n",
       "      <td>130.000000</td>\n",
       "      <td>243.000000</td>\n",
       "      <td>0.000000</td>\n",
       "      <td>1.000000</td>\n",
       "      <td>153.000000</td>\n",
       "      <td>0.000000</td>\n",
       "      <td>0.800000</td>\n",
       "      <td>2.000000</td>\n",
       "      <td>0.000000</td>\n",
       "      <td>3.000000</td>\n",
       "    </tr>\n",
       "    <tr>\n",
       "      <th>75%</th>\n",
       "      <td>61.000000</td>\n",
       "      <td>1.000000</td>\n",
       "      <td>4.000000</td>\n",
       "      <td>140.000000</td>\n",
       "      <td>276.000000</td>\n",
       "      <td>0.000000</td>\n",
       "      <td>2.000000</td>\n",
       "      <td>166.000000</td>\n",
       "      <td>1.000000</td>\n",
       "      <td>1.600000</td>\n",
       "      <td>2.000000</td>\n",
       "      <td>1.000000</td>\n",
       "      <td>7.000000</td>\n",
       "    </tr>\n",
       "    <tr>\n",
       "      <th>max</th>\n",
       "      <td>77.000000</td>\n",
       "      <td>1.000000</td>\n",
       "      <td>4.000000</td>\n",
       "      <td>200.000000</td>\n",
       "      <td>564.000000</td>\n",
       "      <td>1.000000</td>\n",
       "      <td>2.000000</td>\n",
       "      <td>202.000000</td>\n",
       "      <td>1.000000</td>\n",
       "      <td>6.200000</td>\n",
       "      <td>3.000000</td>\n",
       "      <td>3.000000</td>\n",
       "      <td>7.000000</td>\n",
       "    </tr>\n",
       "  </tbody>\n",
       "</table>\n",
       "</div>"
      ],
      "text/plain": [
       "              age         sex          cp    trestbps        chol         fbs  \\\n",
       "count  297.000000  297.000000  297.000000  297.000000  297.000000  297.000000   \n",
       "mean    54.542088    0.676768    3.158249  131.693603  247.350168    0.144781   \n",
       "std      9.049736    0.468500    0.964859   17.762806   51.997583    0.352474   \n",
       "min     29.000000    0.000000    1.000000   94.000000  126.000000    0.000000   \n",
       "25%     48.000000    0.000000    3.000000  120.000000  211.000000    0.000000   \n",
       "50%     56.000000    1.000000    3.000000  130.000000  243.000000    0.000000   \n",
       "75%     61.000000    1.000000    4.000000  140.000000  276.000000    0.000000   \n",
       "max     77.000000    1.000000    4.000000  200.000000  564.000000    1.000000   \n",
       "\n",
       "          restecg     thalach       exang     oldpeak       slope          ca  \\\n",
       "count  297.000000  297.000000  297.000000  297.000000  297.000000  297.000000   \n",
       "mean     0.996633  149.599327    0.326599    1.055556    1.602694    0.676768   \n",
       "std      0.994914   22.941562    0.469761    1.166123    0.618187    0.938965   \n",
       "min      0.000000   71.000000    0.000000    0.000000    1.000000    0.000000   \n",
       "25%      0.000000  133.000000    0.000000    0.000000    1.000000    0.000000   \n",
       "50%      1.000000  153.000000    0.000000    0.800000    2.000000    0.000000   \n",
       "75%      2.000000  166.000000    1.000000    1.600000    2.000000    1.000000   \n",
       "max      2.000000  202.000000    1.000000    6.200000    3.000000    3.000000   \n",
       "\n",
       "             thal  \n",
       "count  297.000000  \n",
       "mean     4.730640  \n",
       "std      1.938629  \n",
       "min      3.000000  \n",
       "25%      3.000000  \n",
       "50%      3.000000  \n",
       "75%      7.000000  \n",
       "max      7.000000  "
      ]
     },
     "execution_count": 200,
     "metadata": {},
     "output_type": "execute_result"
    }
   ],
   "source": [
    "X.describe()"
   ]
  },
  {
   "cell_type": "code",
   "execution_count": 201,
   "metadata": {},
   "outputs": [
    {
     "data": {
      "text/plain": [
       "sex        2\n",
       "cp         4\n",
       "fbs        2\n",
       "restecg    3\n",
       "exang      2\n",
       "slope      3\n",
       "thal       3\n",
       "dtype: int64"
      ]
     },
     "execution_count": 201,
     "metadata": {},
     "output_type": "execute_result"
    }
   ],
   "source": [
    "numerical_features = [\"age\", \"trestbps\", \"chol\", \"thalach\", \"oldpeak\", \"ca\"]\n",
    "categorical_features = [\"sex\", \"cp\", \"fbs\", \"restecg\", \"exang\", \"slope\", \"thal\"]\n",
    "X[categorical_features].nunique()"
   ]
  },
  {
   "cell_type": "code",
   "execution_count": 202,
   "metadata": {},
   "outputs": [],
   "source": [
    "multi_categorical_features = [\"cp\", \"restecg\", \"slope\", \"thal\"]"
   ]
  },
  {
   "cell_type": "markdown",
   "metadata": {},
   "source": [
    "Data Visualization\n",
    "\n",
    "We can visualize the numerical features by stacked histograms and categorical features by bar plots"
   ]
  },
  {
   "cell_type": "markdown",
   "metadata": {},
   "source": [
    "Numerical Features\n",
    "\n",
    "Notice that although ca looks like a categorical feature, the description of this feature is \"number of major vessels (0-3) colored by flourosopy\", which is a count and is ordered in nature"
   ]
  },
  {
   "cell_type": "code",
   "execution_count": 203,
   "metadata": {},
   "outputs": [
    {
     "data": {
      "image/png": "[encoded data removed]",
      "text/plain": [
       "<Figure size 1500x1000 with 6 Axes>"
      ]
     },
     "metadata": {},
     "output_type": "display_data"
    }
   ],
   "source": [
    "data = pd.concat([X, y_binarized], axis=1)\n",
    "\n",
    "fig, axes = plt.subplots(2, 3, figsize=(15, 10))  \n",
    "axes = axes.flatten()\n",
    "\n",
    "for i, feature in enumerate(numerical_features):\n",
    "    class_data = [data[data[\"num\"] == label][feature] for label in data[\"num\"].unique()]\n",
    "    labels = data[\"num\"].unique()\n",
    "    \n",
    "    axes[i].hist(class_data, bins=20, stacked=True, label=labels, edgecolor='black')\n",
    "    axes[i].set_title(f\"Stacked Histogram of {feature} by Class\")\n",
    "    axes[i].set_xlabel(feature)\n",
    "    axes[i].set_ylabel(\"Frequency\")\n",
    "    axes[i].legend(title=\"num\")\n",
    "\n",
    "for j in range(len(numerical_features), len(axes)):\n",
    "    axes[j].axis(\"off\")\n",
    "\n",
    "plt.tight_layout()\n",
    "plt.show()\n"
   ]
  },
  {
   "cell_type": "markdown",
   "metadata": {},
   "source": [
    "Catgeorical Features"
   ]
  },
  {
   "cell_type": "code",
   "execution_count": 204,
   "metadata": {},
   "outputs": [
    {
     "data": {
      "image/png": "[encoded data removed]",
      "text/plain": [
       "<Figure size 2000x1000 with 8 Axes>"
      ]
     },
     "metadata": {},
     "output_type": "display_data"
    }
   ],
   "source": [
    "fig, axes = plt.subplots(2, 4, figsize=(20, 10))\n",
    "axes = axes.flatten()\n",
    "\n",
    "for i, feature in enumerate(categorical_features):\n",
    "    sns.countplot(data=data, x=feature, hue=\"num\", ax=axes[i])\n",
    "    axes[i].set_title(f\"Distribution of {feature} by Class\")\n",
    "    axes[i].set_xlabel(feature)\n",
    "    axes[i].set_ylabel(\"Count\")\n",
    "\n",
    "for j in range(len(categorical_features), len(axes)):\n",
    "    axes[j].axis(\"off\")\n",
    "\n",
    "plt.show()"
   ]
  },
  {
   "cell_type": "markdown",
   "metadata": {},
   "source": [
    "One-hot Encoding (OHE) for multi-categorical features \n",
    "\n",
    "The deatiled explanation for what each category number represents variables table of the documentation. \n",
    "\n",
    "After OHE, we have 22 features in total"
   ]
  },
  {
   "cell_type": "code",
   "execution_count": 205,
   "metadata": {},
   "outputs": [
    {
     "data": {
      "text/html": [
       "<div>\n",
       "<style scoped>\n",
       "    .dataframe tbody tr th:only-of-type {\n",
       "        vertical-align: middle;\n",
       "    }\n",
       "\n",
       "    .dataframe tbody tr th {\n",
       "        vertical-align: top;\n",
       "    }\n",
       "\n",
       "    .dataframe thead th {\n",
       "        text-align: right;\n",
       "    }\n",
       "</style>\n",
       "<table border=\"1\" class=\"dataframe\">\n",
       "  <thead>\n",
       "    <tr style=\"text-align: right;\">\n",
       "      <th></th>\n",
       "      <th>age</th>\n",
       "      <th>sex</th>\n",
       "      <th>trestbps</th>\n",
       "      <th>chol</th>\n",
       "      <th>fbs</th>\n",
       "      <th>thalach</th>\n",
       "      <th>exang</th>\n",
       "      <th>oldpeak</th>\n",
       "      <th>ca</th>\n",
       "      <th>cp_1</th>\n",
       "      <th>...</th>\n",
       "      <th>cp_4</th>\n",
       "      <th>restecg_0</th>\n",
       "      <th>restecg_1</th>\n",
       "      <th>restecg_2</th>\n",
       "      <th>slope_1</th>\n",
       "      <th>slope_2</th>\n",
       "      <th>slope_3</th>\n",
       "      <th>thal_3.0</th>\n",
       "      <th>thal_6.0</th>\n",
       "      <th>thal_7.0</th>\n",
       "    </tr>\n",
       "  </thead>\n",
       "  <tbody>\n",
       "    <tr>\n",
       "      <th>0</th>\n",
       "      <td>63</td>\n",
       "      <td>1</td>\n",
       "      <td>145</td>\n",
       "      <td>233</td>\n",
       "      <td>1</td>\n",
       "      <td>150</td>\n",
       "      <td>0</td>\n",
       "      <td>2.3</td>\n",
       "      <td>0.0</td>\n",
       "      <td>1.0</td>\n",
       "      <td>...</td>\n",
       "      <td>0.0</td>\n",
       "      <td>0.0</td>\n",
       "      <td>0.0</td>\n",
       "      <td>1.0</td>\n",
       "      <td>0.0</td>\n",
       "      <td>0.0</td>\n",
       "      <td>1.0</td>\n",
       "      <td>0.0</td>\n",
       "      <td>1.0</td>\n",
       "      <td>0.0</td>\n",
       "    </tr>\n",
       "    <tr>\n",
       "      <th>1</th>\n",
       "      <td>67</td>\n",
       "      <td>1</td>\n",
       "      <td>160</td>\n",
       "      <td>286</td>\n",
       "      <td>0</td>\n",
       "      <td>108</td>\n",
       "      <td>1</td>\n",
       "      <td>1.5</td>\n",
       "      <td>3.0</td>\n",
       "      <td>0.0</td>\n",
       "      <td>...</td>\n",
       "      <td>1.0</td>\n",
       "      <td>0.0</td>\n",
       "      <td>0.0</td>\n",
       "      <td>1.0</td>\n",
       "      <td>0.0</td>\n",
       "      <td>1.0</td>\n",
       "      <td>0.0</td>\n",
       "      <td>1.0</td>\n",
       "      <td>0.0</td>\n",
       "      <td>0.0</td>\n",
       "    </tr>\n",
       "    <tr>\n",
       "      <th>2</th>\n",
       "      <td>67</td>\n",
       "      <td>1</td>\n",
       "      <td>120</td>\n",
       "      <td>229</td>\n",
       "      <td>0</td>\n",
       "      <td>129</td>\n",
       "      <td>1</td>\n",
       "      <td>2.6</td>\n",
       "      <td>2.0</td>\n",
       "      <td>0.0</td>\n",
       "      <td>...</td>\n",
       "      <td>1.0</td>\n",
       "      <td>0.0</td>\n",
       "      <td>0.0</td>\n",
       "      <td>1.0</td>\n",
       "      <td>0.0</td>\n",
       "      <td>1.0</td>\n",
       "      <td>0.0</td>\n",
       "      <td>0.0</td>\n",
       "      <td>0.0</td>\n",
       "      <td>1.0</td>\n",
       "    </tr>\n",
       "    <tr>\n",
       "      <th>3</th>\n",
       "      <td>37</td>\n",
       "      <td>1</td>\n",
       "      <td>130</td>\n",
       "      <td>250</td>\n",
       "      <td>0</td>\n",
       "      <td>187</td>\n",
       "      <td>0</td>\n",
       "      <td>3.5</td>\n",
       "      <td>0.0</td>\n",
       "      <td>0.0</td>\n",
       "      <td>...</td>\n",
       "      <td>0.0</td>\n",
       "      <td>1.0</td>\n",
       "      <td>0.0</td>\n",
       "      <td>0.0</td>\n",
       "      <td>0.0</td>\n",
       "      <td>0.0</td>\n",
       "      <td>1.0</td>\n",
       "      <td>1.0</td>\n",
       "      <td>0.0</td>\n",
       "      <td>0.0</td>\n",
       "    </tr>\n",
       "    <tr>\n",
       "      <th>4</th>\n",
       "      <td>41</td>\n",
       "      <td>0</td>\n",
       "      <td>130</td>\n",
       "      <td>204</td>\n",
       "      <td>0</td>\n",
       "      <td>172</td>\n",
       "      <td>0</td>\n",
       "      <td>1.4</td>\n",
       "      <td>0.0</td>\n",
       "      <td>0.0</td>\n",
       "      <td>...</td>\n",
       "      <td>0.0</td>\n",
       "      <td>0.0</td>\n",
       "      <td>0.0</td>\n",
       "      <td>1.0</td>\n",
       "      <td>1.0</td>\n",
       "      <td>0.0</td>\n",
       "      <td>0.0</td>\n",
       "      <td>1.0</td>\n",
       "      <td>0.0</td>\n",
       "      <td>0.0</td>\n",
       "    </tr>\n",
       "  </tbody>\n",
       "</table>\n",
       "<p>5 rows × 22 columns</p>\n",
       "</div>"
      ],
      "text/plain": [
       "   age  sex  trestbps  chol  fbs  thalach  exang  oldpeak   ca  cp_1  ...  \\\n",
       "0   63    1       145   233    1      150      0      2.3  0.0   1.0  ...   \n",
       "1   67    1       160   286    0      108      1      1.5  3.0   0.0  ...   \n",
       "2   67    1       120   229    0      129      1      2.6  2.0   0.0  ...   \n",
       "3   37    1       130   250    0      187      0      3.5  0.0   0.0  ...   \n",
       "4   41    0       130   204    0      172      0      1.4  0.0   0.0  ...   \n",
       "\n",
       "   cp_4  restecg_0  restecg_1  restecg_2  slope_1  slope_2  slope_3  thal_3.0  \\\n",
       "0   0.0        0.0        0.0        1.0      0.0      0.0      1.0       0.0   \n",
       "1   1.0        0.0        0.0        1.0      0.0      1.0      0.0       1.0   \n",
       "2   1.0        0.0        0.0        1.0      0.0      1.0      0.0       0.0   \n",
       "3   0.0        1.0        0.0        0.0      0.0      0.0      1.0       1.0   \n",
       "4   0.0        0.0        0.0        1.0      1.0      0.0      0.0       1.0   \n",
       "\n",
       "   thal_6.0  thal_7.0  \n",
       "0       1.0       0.0  \n",
       "1       0.0       0.0  \n",
       "2       0.0       1.0  \n",
       "3       0.0       0.0  \n",
       "4       0.0       0.0  \n",
       "\n",
       "[5 rows x 22 columns]"
      ]
     },
     "execution_count": 205,
     "metadata": {},
     "output_type": "execute_result"
    }
   ],
   "source": [
    "ohe = OneHotEncoder()\n",
    "X_encoded = ohe.fit_transform(X[multi_categorical_features])\n",
    "encoded_df = pd.DataFrame(X_encoded.toarray(), columns=ohe.get_feature_names_out(multi_categorical_features), index=X.index)\n",
    "X_ohe = X.drop(columns=multi_categorical_features).join(encoded_df)\n",
    "X_ohe.head()"
   ]
  },
  {
   "cell_type": "markdown",
   "metadata": {},
   "source": [
    "Feature Correlation Heatmap"
   ]
  },
  {
   "cell_type": "code",
   "execution_count": 206,
   "metadata": {},
   "outputs": [
    {
     "data": {
      "image/png": "[encoded data removed]",
      "text/plain": [
       "<Figure size 1000x800 with 2 Axes>"
      ]
     },
     "metadata": {},
     "output_type": "display_data"
    }
   ],
   "source": [
    "correlation_matrix = X_ohe.corr().abs()\n",
    "plt.figure(figsize=(10, 8))\n",
    "sns.heatmap(correlation_matrix, annot=False, fmt=\".2f\", cmap=\"coolwarm\", square=True, cbar_kws={'shrink': .8})\n",
    "plt.title(\"Correlation Heatmap of Features\")\n",
    "plt.show()"
   ]
  },
  {
   "cell_type": "markdown",
   "metadata": {},
   "source": [
    "We see several highly correlated features, which can be identified by thresholding as well."
   ]
  },
  {
   "cell_type": "code",
   "execution_count": 207,
   "metadata": {},
   "outputs": [],
   "source": [
    "def find_highly_correlated_features(features, threshold=0.7):\n",
    "    correlation_matrix = features.corr().abs()\n",
    "    upper_triangle = correlation_matrix.where(np.triu(np.ones(correlation_matrix.shape), k=1).astype(bool))\n",
    "\n",
    "    highly_correlated_pairs = [(col, row, upper_triangle.loc[row, col]) \n",
    "                            for col in upper_triangle.columns \n",
    "                            for row in upper_triangle.index \n",
    "                            if upper_triangle.loc[row, col] > threshold]\n",
    "    return highly_correlated_pairs"
   ]
  },
  {
   "cell_type": "code",
   "execution_count": 208,
   "metadata": {},
   "outputs": [
    {
     "data": {
      "text/plain": [
       "[('restecg_2', 'restecg_0', 0.9734216295491753),\n",
       " ('slope_2', 'slope_1', 0.8679189062626194),\n",
       " ('thal_7.0', 'thal_3.0', 0.882692282941067)]"
      ]
     },
     "execution_count": 208,
     "metadata": {},
     "output_type": "execute_result"
    }
   ],
   "source": [
    "find_highly_correlated_features(X_ohe) "
   ]
  },
  {
   "cell_type": "markdown",
   "metadata": {},
   "source": [
    "Three highly correlated features identified. We drop the first entries. Now we are left with 19 features"
   ]
  },
  {
   "cell_type": "code",
   "execution_count": 209,
   "metadata": {},
   "outputs": [],
   "source": [
    "X_ohe.drop(columns=[\"restecg_2\", \"slope_2\", \"thal_7.0\"], inplace=True)"
   ]
  },
  {
   "cell_type": "markdown",
   "metadata": {},
   "source": [
    "Perform PCA on the OHE feature set\n",
    "\n",
    "First we set n_components to None to visualize the feature importance (in terms of variance explained) for all OHE features. "
   ]
  },
  {
   "cell_type": "code",
   "execution_count": 210,
   "metadata": {},
   "outputs": [
    {
     "data": {
      "image/png": "[encoded data removed]",
      "text/plain": [
       "<Figure size 800x600 with 1 Axes>"
      ]
     },
     "metadata": {},
     "output_type": "display_data"
    }
   ],
   "source": [
    "scaler = StandardScaler()\n",
    "X_scaled = scaler.fit_transform(X_ohe)\n",
    "\n",
    "pca = PCA(n_components=None)\n",
    "\n",
    "X_pca = pca.fit_transform(X_scaled)\n",
    "X_pca_df = pd.DataFrame(X_pca, columns=X_ohe.columns)\n",
    "\n",
    "plt.figure(figsize=(8, 6))\n",
    "plt.bar(range(1, len(pca.explained_variance_ratio_) + 1), pca.explained_variance_ratio_, alpha=0.7)\n",
    "plt.xlabel('Principal Component')\n",
    "plt.ylabel('Explained Variance Ratio')\n",
    "plt.title('Explained Variance Ratio by Principal Component')\n",
    "plt.show()\n"
   ]
  },
  {
   "cell_type": "markdown",
   "metadata": {},
   "source": [
    "We drop the features with feature importance less than 0.02 to further reduce the feature size"
   ]
  },
  {
   "cell_type": "code",
   "execution_count": 211,
   "metadata": {},
   "outputs": [
    {
     "name": "stdout",
     "output_type": "stream",
     "text": [
      "Top Features by Feature Importance based on PCA:\n",
      "           Feature Importance\n",
      "restecg_1            0.139293\n",
      "trestbps             0.110090\n",
      "thal_6.0             0.095158\n",
      "slope_3              0.093465\n",
      "oldpeak              0.088189\n",
      "slope_1              0.081886\n",
      "cp_2                 0.064809\n",
      "thalach              0.057292\n",
      "age                  0.055723\n",
      "exang                0.051918\n",
      "restecg_0            0.035414\n",
      "thal_3.0             0.035071\n",
      "cp_3                 0.033948\n",
      "sex                  0.031229\n",
      "fbs                  0.028429\n",
      "cp_4                 0.012255\n",
      "cp_1                 0.010099\n",
      "chol                 0.009460\n",
      "ca                   0.007568\n"
     ]
    }
   ],
   "source": [
    "# Variance explained by each component\n",
    "explained_variance = pca.explained_variance_ratio_  \n",
    "components_df = pd.DataFrame(pca.components_, columns=X_ohe.columns)\n",
    "\n",
    "# Multiply each component's loadings by the explained variance ratio of that component, sort by importance\n",
    "feature_importance_df = pd.DataFrame(np.abs(components_df.T @ explained_variance), index=X_ohe.columns, columns=['Feature Importance']).sort_values(by='Feature Importance', ascending=False)\n",
    "\n",
    "print(\"Top Features by Feature Importance based on PCA:\")\n",
    "pd.set_option('display.max_rows', None)  # Display all rows\n",
    "print(feature_importance_df)\n",
    "pd.reset_option('display.max_rows')"
   ]
  },
  {
   "cell_type": "code",
   "execution_count": 212,
   "metadata": {},
   "outputs": [],
   "source": [
    "X_ohe.drop(columns=[\"cp_4\", \"cp_1\", \"chol\", \"ca\"], inplace=True)"
   ]
  },
  {
   "cell_type": "markdown",
   "metadata": {},
   "source": [
    "Now we are left with 15 features after feature selection with PCA and we can start training the models"
   ]
  },
  {
   "cell_type": "code",
   "execution_count": 213,
   "metadata": {},
   "outputs": [
    {
     "data": {
      "text/html": [
       "<div>\n",
       "<style scoped>\n",
       "    .dataframe tbody tr th:only-of-type {\n",
       "        vertical-align: middle;\n",
       "    }\n",
       "\n",
       "    .dataframe tbody tr th {\n",
       "        vertical-align: top;\n",
       "    }\n",
       "\n",
       "    .dataframe thead th {\n",
       "        text-align: right;\n",
       "    }\n",
       "</style>\n",
       "<table border=\"1\" class=\"dataframe\">\n",
       "  <thead>\n",
       "    <tr style=\"text-align: right;\">\n",
       "      <th></th>\n",
       "      <th>age</th>\n",
       "      <th>sex</th>\n",
       "      <th>trestbps</th>\n",
       "      <th>fbs</th>\n",
       "      <th>thalach</th>\n",
       "      <th>exang</th>\n",
       "      <th>oldpeak</th>\n",
       "      <th>cp_2</th>\n",
       "      <th>cp_3</th>\n",
       "      <th>restecg_0</th>\n",
       "      <th>restecg_1</th>\n",
       "      <th>slope_1</th>\n",
       "      <th>slope_3</th>\n",
       "      <th>thal_3.0</th>\n",
       "      <th>thal_6.0</th>\n",
       "    </tr>\n",
       "  </thead>\n",
       "  <tbody>\n",
       "    <tr>\n",
       "      <th>0</th>\n",
       "      <td>63</td>\n",
       "      <td>1</td>\n",
       "      <td>145</td>\n",
       "      <td>1</td>\n",
       "      <td>150</td>\n",
       "      <td>0</td>\n",
       "      <td>2.3</td>\n",
       "      <td>0.0</td>\n",
       "      <td>0.0</td>\n",
       "      <td>0.0</td>\n",
       "      <td>0.0</td>\n",
       "      <td>0.0</td>\n",
       "      <td>1.0</td>\n",
       "      <td>0.0</td>\n",
       "      <td>1.0</td>\n",
       "    </tr>\n",
       "    <tr>\n",
       "      <th>1</th>\n",
       "      <td>67</td>\n",
       "      <td>1</td>\n",
       "      <td>160</td>\n",
       "      <td>0</td>\n",
       "      <td>108</td>\n",
       "      <td>1</td>\n",
       "      <td>1.5</td>\n",
       "      <td>0.0</td>\n",
       "      <td>0.0</td>\n",
       "      <td>0.0</td>\n",
       "      <td>0.0</td>\n",
       "      <td>0.0</td>\n",
       "      <td>0.0</td>\n",
       "      <td>1.0</td>\n",
       "      <td>0.0</td>\n",
       "    </tr>\n",
       "    <tr>\n",
       "      <th>2</th>\n",
       "      <td>67</td>\n",
       "      <td>1</td>\n",
       "      <td>120</td>\n",
       "      <td>0</td>\n",
       "      <td>129</td>\n",
       "      <td>1</td>\n",
       "      <td>2.6</td>\n",
       "      <td>0.0</td>\n",
       "      <td>0.0</td>\n",
       "      <td>0.0</td>\n",
       "      <td>0.0</td>\n",
       "      <td>0.0</td>\n",
       "      <td>0.0</td>\n",
       "      <td>0.0</td>\n",
       "      <td>0.0</td>\n",
       "    </tr>\n",
       "    <tr>\n",
       "      <th>3</th>\n",
       "      <td>37</td>\n",
       "      <td>1</td>\n",
       "      <td>130</td>\n",
       "      <td>0</td>\n",
       "      <td>187</td>\n",
       "      <td>0</td>\n",
       "      <td>3.5</td>\n",
       "      <td>0.0</td>\n",
       "      <td>1.0</td>\n",
       "      <td>1.0</td>\n",
       "      <td>0.0</td>\n",
       "      <td>0.0</td>\n",
       "      <td>1.0</td>\n",
       "      <td>1.0</td>\n",
       "      <td>0.0</td>\n",
       "    </tr>\n",
       "    <tr>\n",
       "      <th>4</th>\n",
       "      <td>41</td>\n",
       "      <td>0</td>\n",
       "      <td>130</td>\n",
       "      <td>0</td>\n",
       "      <td>172</td>\n",
       "      <td>0</td>\n",
       "      <td>1.4</td>\n",
       "      <td>1.0</td>\n",
       "      <td>0.0</td>\n",
       "      <td>0.0</td>\n",
       "      <td>0.0</td>\n",
       "      <td>1.0</td>\n",
       "      <td>0.0</td>\n",
       "      <td>1.0</td>\n",
       "      <td>0.0</td>\n",
       "    </tr>\n",
       "  </tbody>\n",
       "</table>\n",
       "</div>"
      ],
      "text/plain": [
       "   age  sex  trestbps  fbs  thalach  exang  oldpeak  cp_2  cp_3  restecg_0  \\\n",
       "0   63    1       145    1      150      0      2.3   0.0   0.0        0.0   \n",
       "1   67    1       160    0      108      1      1.5   0.0   0.0        0.0   \n",
       "2   67    1       120    0      129      1      2.6   0.0   0.0        0.0   \n",
       "3   37    1       130    0      187      0      3.5   0.0   1.0        1.0   \n",
       "4   41    0       130    0      172      0      1.4   1.0   0.0        0.0   \n",
       "\n",
       "   restecg_1  slope_1  slope_3  thal_3.0  thal_6.0  \n",
       "0        0.0      0.0      1.0       0.0       1.0  \n",
       "1        0.0      0.0      0.0       1.0       0.0  \n",
       "2        0.0      0.0      0.0       0.0       0.0  \n",
       "3        0.0      0.0      1.0       1.0       0.0  \n",
       "4        0.0      1.0      0.0       1.0       0.0  "
      ]
     },
     "execution_count": 213,
     "metadata": {},
     "output_type": "execute_result"
    }
   ],
   "source": [
    "X_ohe.head()"
   ]
  },
  {
   "cell_type": "markdown",
   "metadata": {},
   "source": [
    "### Supervised Learning Model Training"
   ]
  },
  {
   "cell_type": "markdown",
   "metadata": {},
   "source": [
    "Train test split with fixed random seed for reproducibility\n",
    "\n",
    "Since the distribution of two classes is roughly even and we have limited data points, no resampling is conducted to fully balance the two classes"
   ]
  },
  {
   "cell_type": "code",
   "execution_count": 214,
   "metadata": {},
   "outputs": [],
   "source": [
    "from sklearn.model_selection import train_test_split\n",
    "\n",
    "# Split the data into training and testing sets\n",
    "X_train, X_test, y_train, y_test = train_test_split(X_ohe, y_binarized, test_size=0.2, random_state=42)\n",
    "scaler = StandardScaler()\n",
    "X_train = scaler.fit_transform(X_train)\n",
    "X_test = scaler.transform(X_test)"
   ]
  },
  {
   "cell_type": "markdown",
   "metadata": {},
   "source": [
    "#### Model Training Methodology"
   ]
  },
  {
   "cell_type": "markdown",
   "metadata": {},
   "source": [
    "To improve model performance and evaluate model performance through cross validation, we use GridSearch as the hyperparameter tuning technique for all the machine learning models below:\n",
    "\n",
    "Supervised Learning:\n",
    "- Support Vector Machine (SVM)\n",
    "- Logistic Regression\n",
    "- Random Forest (Ensemble of Decision Trees)\n",
    "- Neural Network (NN)\n",
    "\n",
    "Unsupervised Learning:\n",
    "- K-means clustering\n",
    "- Gaussian Mixture Model (GMM) \n",
    "\n",
    "We use both accuracy and F1-score to measure the model performance, so as to ensure the model performs well and perform fairly on both classes."
   ]
  },
  {
   "cell_type": "markdown",
   "metadata": {},
   "source": [
    "#### Supervised Learning Model Training"
   ]
  },
  {
   "cell_type": "markdown",
   "metadata": {},
   "source": [
    "##### 1. SVM\n",
    "\n",
    "Best training Accuracy = 0.78859\n",
    "\n",
    "Test accuracy = 0.87\n",
    "\n",
    "Test Macro F1-score = 0.86 "
   ]
  },
  {
   "cell_type": "code",
   "execution_count": 215,
   "metadata": {},
   "outputs": [
    {
     "name": "stdout",
     "output_type": "stream",
     "text": [
      "Best SVM Parameters: {'C': 1, 'gamma': 'scale', 'kernel': 'linear'}\n",
      "Best SVM Score: 0.788586956521739\n",
      "Peformance on test data:\n",
      "              precision    recall  f1-score   support\n",
      "\n",
      "           0       0.89      0.89      0.89        36\n",
      "           1       0.83      0.83      0.83        24\n",
      "\n",
      "    accuracy                           0.87        60\n",
      "   macro avg       0.86      0.86      0.86        60\n",
      "weighted avg       0.87      0.87      0.87        60\n",
      "\n",
      "[[32  4]\n",
      " [ 4 20]]\n"
     ]
    }
   ],
   "source": [
    "# Define the parameter grid\n",
    "svm_param_grid = {\n",
    "    'C': [0.1, 1, 10, 100],               # Different regularization level\n",
    "    'kernel': ['linear', 'rbf', 'poly'],  # Try different kernel variations\n",
    "    'gamma': ['scale', 'auto']\n",
    "}\n",
    "\n",
    "# set max_iter to early stop when the perfectly separable \n",
    "svm = SVC(max_iter=200000)\n",
    "\n",
    "# Initialize GridSearchCV with 10-fold cross validation\n",
    "svm_grid_search = GridSearchCV(estimator=svm, param_grid=svm_param_grid, cv=10, scoring='accuracy', n_jobs=-1)\n",
    "svm_grid_search.fit(X_train, y_train)\n",
    "\n",
    "# Print best parameters and best score\n",
    "print(\"Best SVM Parameters:\", svm_grid_search.best_params_)\n",
    "print(\"Best SVM Score:\", svm_grid_search.best_score_)\n",
    "\n",
    "y_pred = svm_grid_search.best_estimator_.predict(X_test)\n",
    "print(\"Peformance on test data:\")\n",
    "print(classification_report(y_test, y_pred))\n",
    "print(confusion_matrix(y_test, y_pred))"
   ]
  },
  {
   "cell_type": "markdown",
   "metadata": {},
   "source": [
    "##### 2. Logistic Regression\n",
    "\n",
    "Best training Accuracy = 0.79293\n",
    "\n",
    "Test accuracy = 0.87\n",
    "\n",
    "Test Macro F1-score = 0.86 "
   ]
  },
  {
   "cell_type": "code",
   "execution_count": 216,
   "metadata": {},
   "outputs": [
    {
     "name": "stdout",
     "output_type": "stream",
     "text": [
      "Best Logsitic Regression Parameters: {'C': 0.01, 'penalty': 'l2', 'solver': 'lbfgs'}\n",
      "Best Logsitic Regression Score: 0.7929347826086957\n",
      "Peformance on test data:\n",
      "              precision    recall  f1-score   support\n",
      "\n",
      "           0       0.89      0.89      0.89        36\n",
      "           1       0.83      0.83      0.83        24\n",
      "\n",
      "    accuracy                           0.87        60\n",
      "   macro avg       0.86      0.86      0.86        60\n",
      "weighted avg       0.87      0.87      0.87        60\n",
      "\n",
      "[[32  4]\n",
      " [ 4 20]]\n"
     ]
    }
   ],
   "source": [
    "# Define the parameter grid\n",
    "param_grid = {\n",
    "    'C': [0.01, 0.1, 1, 10, 100],         # Regularization strength\n",
    "    'penalty': ['l2', 'none'],            # Regularization type\n",
    "    'solver': ['lbfgs', 'saga']           # Solver (only solvers that support the chosen penalty)\n",
    "}\n",
    "\n",
    "# Initialize the Logistic Regression model\n",
    "logreg = LogisticRegression(max_iter=2000)\n",
    "\n",
    "# Initialize GridSearchCV\n",
    "logreg_grid_search = GridSearchCV(estimator=logreg, param_grid=param_grid, cv=10, scoring='accuracy', n_jobs=-1)\n",
    "\n",
    "# Fit GridSearchCV to the data\n",
    "logreg_grid_search.fit(X_train, y_train)\n",
    "\n",
    "# Get the best parameters and best score from the grid search\n",
    "print(\"Best Logsitic Regression Parameters:\", logreg_grid_search.best_params_)\n",
    "print(\"Best Logsitic Regression Score:\", logreg_grid_search.best_score_)\n",
    "\n",
    "y_pred = svm_grid_search.best_estimator_.predict(X_test)\n",
    "print(\"Peformance on test data:\")\n",
    "print(classification_report(y_test, y_pred))\n",
    "print(confusion_matrix(y_test, y_pred))"
   ]
  },
  {
   "cell_type": "markdown",
   "metadata": {},
   "source": [
    "##### 3. Random Forest of Decision Trees\n",
    "\n",
    "Best training Accuracy = 0.78007\n",
    "\n",
    "Test accuracy = 0.83\n",
    "\n",
    "Test Macro F1-score =  0.83 "
   ]
  },
  {
   "cell_type": "code",
   "execution_count": 217,
   "metadata": {},
   "outputs": [
    {
     "name": "stdout",
     "output_type": "stream",
     "text": [
      "Best RF Parameters: {'max_depth': None, 'min_samples_leaf': 1, 'min_samples_split': 10, 'n_estimators': 50}\n",
      "Best RF Score: 0.780072463768116\n",
      "Peformance on test data:\n",
      "              precision    recall  f1-score   support\n",
      "\n",
      "           0       0.86      0.86      0.86        36\n",
      "           1       0.79      0.79      0.79        24\n",
      "\n",
      "    accuracy                           0.83        60\n",
      "   macro avg       0.83      0.83      0.83        60\n",
      "weighted avg       0.83      0.83      0.83        60\n",
      "\n",
      "[[31  5]\n",
      " [ 5 19]]\n"
     ]
    }
   ],
   "source": [
    "# Define the parameter grid\n",
    "rf_param_grid = {\n",
    "    'n_estimators': [50, 100, 200],    # Number of decisions trees\n",
    "    'max_depth': [None, 10, 20, 30],   # Max depth of tree\n",
    "    'min_samples_split': [2, 5, 10],\n",
    "    'min_samples_leaf': [1, 2, 4]\n",
    "}\n",
    "\n",
    "# Initialize GridSearchCV\n",
    "rf = RandomForestClassifier(random_state=42)\n",
    "rf_grid_search = GridSearchCV(estimator=rf, param_grid=rf_param_grid, cv=10, scoring='accuracy', n_jobs=-1)\n",
    "\n",
    "# Fit GridSearchCV to the data\n",
    "rf_grid_search.fit(X_train, y_train)\n",
    "\n",
    "# Print best parameters and best score\n",
    "print(\"Best RF Parameters:\", rf_grid_search.best_params_)\n",
    "print(\"Best RF Score:\", rf_grid_search.best_score_)\n",
    "\n",
    "y_pred = rf_grid_search.best_estimator_.predict(X_test)\n",
    "print(\"Peformance on test data:\")\n",
    "print(classification_report(y_test, y_pred))\n",
    "print(confusion_matrix(y_test, y_pred))"
   ]
  },
  {
   "cell_type": "markdown",
   "metadata": {},
   "source": [
    "##### 4. Neural Network (MLP)\n",
    "\n",
    "Best training Accuracy = 0.79293\n",
    "\n",
    "Test accuracy = 0.88\n",
    "\n",
    "Test Macro F1-score =  0.88"
   ]
  },
  {
   "cell_type": "code",
   "execution_count": 218,
   "metadata": {},
   "outputs": [
    {
     "name": "stdout",
     "output_type": "stream",
     "text": [
      "Best NN Parameters: {'activation': 'logistic', 'alpha': 0.0001, 'hidden_layer_sizes': (32,), 'learning_rate_init': 0.0001}\n",
      "Best NN Score: 0.7929347826086957\n",
      "Peformance on test data:\n",
      "              precision    recall  f1-score   support\n",
      "\n",
      "           0       0.89      0.92      0.90        36\n",
      "           1       0.87      0.83      0.85        24\n",
      "\n",
      "    accuracy                           0.88        60\n",
      "   macro avg       0.88      0.88      0.88        60\n",
      "weighted avg       0.88      0.88      0.88        60\n",
      "\n",
      "[[33  3]\n",
      " [ 4 20]]\n"
     ]
    },
    {
     "name": "stderr",
     "output_type": "stream",
     "text": [
      "c:\\Users\\Andrew\\envs\\DSA5105\\lib\\site-packages\\sklearn\\neural_network\\_multilayer_perceptron.py:691: ConvergenceWarning: Stochastic Optimizer: Maximum iterations (500) reached and the optimization hasn't converged yet.\n",
      "  warnings.warn(\n"
     ]
    }
   ],
   "source": [
    "# Define the parameter grid\n",
    "nn_param_grid = {\n",
    "    'hidden_layer_sizes': [(32,), (32,), (32, 64), (32, 64)],  # Use a single hidden layer or two hidden layers\n",
    "    'activation': ['relu', 'tanh', 'logistic'],                # For hidden layer \n",
    "    'alpha': [0.0001, 0.001, 0.01],                            # L2 regularization\n",
    "    'learning_rate_init': [1e-3, 1e-4]\n",
    "}\n",
    "\n",
    "# Initialize the Neural Network model\n",
    "nn = MLPClassifier(max_iter=500, solver='adam', learning_rate='constant', random_state=42)\n",
    "\n",
    "# Initialize GridSearchCV\n",
    "nn_grid_search = GridSearchCV(estimator=nn, param_grid=nn_param_grid, cv=10, scoring='accuracy', n_jobs=-1)\n",
    "\n",
    "# Fit GridSearchCV to the data\n",
    "nn_grid_search.fit(X_train, y_train)\n",
    "\n",
    "# Print best parameters and best score\n",
    "print(\"Best NN Parameters:\", nn_grid_search.best_params_)\n",
    "print(\"Best NN Score:\", nn_grid_search.best_score_)\n",
    "\n",
    "y_pred = nn_grid_search.best_estimator_.predict(X_test)\n",
    "print(\"Peformance on test data:\")\n",
    "print(classification_report(y_test, y_pred))\n",
    "print(confusion_matrix(y_test, y_pred))"
   ]
  },
  {
   "cell_type": "markdown",
   "metadata": {},
   "source": [
    "Out of the four candidate models, the neural network performs the best after hyperparameter tuning. However, given the small train and test size, these results are not guaranteed to be generalisable when more data points become available."
   ]
  },
  {
   "cell_type": "markdown",
   "metadata": {},
   "source": [
    "#### Unsupervised Learning\n",
    "\n",
    "We use the clustering techniques to predict the class labels by assigning them to one of the two clusters"
   ]
  },
  {
   "cell_type": "markdown",
   "metadata": {},
   "source": [
    "##### 1. K-Means\n",
    "\n",
    "Accuracy = 0.51\n",
    "\n",
    "Macro F1-score =  0.38\n",
    "\n",
    "While the model performs relatively decent on absence (0) data points, the performance is horrible on presence (1) data points"
   ]
  },
  {
   "cell_type": "code",
   "execution_count": 219,
   "metadata": {},
   "outputs": [
    {
     "name": "stdout",
     "output_type": "stream",
     "text": [
      "0.49158249158249157 0.5084175084175084\n",
      "Classification Report and Confusion Matrix\n",
      "              precision    recall  f1-score   support\n",
      "\n",
      "           0       0.53      0.90      0.66       160\n",
      "           1       0.30      0.05      0.09       137\n",
      "\n",
      "    accuracy                           0.51       297\n",
      "   macro avg       0.41      0.48      0.38       297\n",
      "weighted avg       0.42      0.51      0.40       297\n",
      "\n",
      "[[144  16]\n",
      " [130   7]]\n"
     ]
    }
   ],
   "source": [
    "kmeans = KMeans(n_clusters=2, n_init='auto', random_state=42)\n",
    "kmeans_labels = kmeans.fit_predict(X_scaled)\n",
    "acc_pos = accuracy_score(y_binarized, kmeans_labels)\n",
    "acc_neg = accuracy_score(y_binarized, 1 - kmeans_labels)\n",
    "print(acc_pos, acc_neg) # acc_neg is larger, so that reversing the labels aligns cluster index with class labels\n",
    "kmeans_labels = 1 - kmeans_labels\n",
    "print(\"Classification Report and Confusion Matrix\")\n",
    "print(classification_report(y_binarized, kmeans_labels))\n",
    "print(confusion_matrix(y_binarized, kmeans_labels))"
   ]
  },
  {
   "cell_type": "markdown",
   "metadata": {},
   "source": [
    "##### 2. GMM\n",
    "\n",
    "Accuracy = 0.57\n",
    "\n",
    "Macro F1-score =  0.45\n",
    "\n",
    "Similar situation as K-Means, the performance on presence (1) class is too poor."
   ]
  },
  {
   "cell_type": "code",
   "execution_count": 220,
   "metadata": {},
   "outputs": [
    {
     "name": "stdout",
     "output_type": "stream",
     "text": [
      "0.43097643097643096 0.569023569023569\n",
      "Classification Report and Confusion Matrix\n",
      "              precision    recall  f1-score   support\n",
      "\n",
      "           0       0.56      0.96      0.71       160\n",
      "           1       0.70      0.12      0.20       137\n",
      "\n",
      "    accuracy                           0.57       297\n",
      "   macro avg       0.63      0.54      0.45       297\n",
      "weighted avg       0.62      0.57      0.47       297\n",
      "\n",
      "[[153   7]\n",
      " [121  16]]\n"
     ]
    }
   ],
   "source": [
    "gmm = GaussianMixture(n_components=2, n_init=100, random_state=42)\n",
    "gmm_labels = gmm.fit_predict(X_scaled)  # Notice that it predicts the most probable class as the class label\n",
    "acc_pos = accuracy_score(y_binarized, gmm_labels)\n",
    "acc_neg = accuracy_score(y_binarized, 1 - gmm_labels)\n",
    "print(acc_pos, acc_neg) # acc_neg is larger, so that reversing the labels aligns cluster index with class labels\n",
    "gmm_labels= 1 - gmm_labels\n",
    "print(\"Classification Report and Confusion Matrix\")\n",
    "print(classification_report(y_binarized, gmm_labels))\n",
    "print(confusion_matrix(y_binarized, gmm_labels))"
   ]
  },
  {
   "cell_type": "markdown",
   "metadata": {},
   "source": [
    "### Conclusion"
   ]
  },
  {
   "cell_type": "markdown",
   "metadata": {},
   "source": [
    "Across all supervised and unsupervised learning models explored above, the neural network with a multi-layer perceptron achieved the best performance. Overall, unsupervised learning techniques performed much worse than supervised learning methods. This can be attributed to the number of data points in the provided dataset—around 300 samples, which is considered too small for unsupervised clustering methods to reliably recognize cluster centroids and be less affected by irreducible noise in the data. Hence, this project serves as a useful example demonstrating how supervised learning is more suitable when the number of data points is limited, and the features are carefully engineered. In practice, with millions of data points, unsupervised learning methods become more effective in identifying similarities among data points and locating clusters more accurately."
   ]
  },
  {
   "cell_type": "markdown",
   "metadata": {},
   "source": [
    "### Reference"
   ]
  },
  {
   "cell_type": "markdown",
   "metadata": {},
   "source": [
    "This project mainly refers to the [sklearn](https://scikit-learn.org/1.5/index.html) documentation, with the highlight of the following:\n",
    "- [SVM](https://scikit-learn.org/dev/modules/generated/sklearn.svm.SVC.html)\n",
    "- [Logistic Regression](https://scikit-learn.org/1.5/modules/generated/sklearn.linear_model.LogisticRegression.html)\n",
    "- [Random Forest](https://scikit-learn.org/1.5/modules/generated/sklearn.ensemble.RandomForestClassifier.html)\n",
    "- [Neural network](https://scikit-learn.org/1.5/modules/generated/sklearn.neural_network.MLPClassifier.html#sklearn.neural_network.MLPClassifier)\n",
    "- [K-Means](https://scikit-learn.org/1.5/modules/generated/sklearn.cluster.KMeans.html)\n",
    "- [GMM](https://scikit-learn.org/dev/modules/generated/sklearn.mixture.GaussianMixture.html)\n",
    "\n",
    "Furthermore, regarding methodlogy and training setup:\n",
    "- [Hyperparameter Tuning - Grid Search](https://scikit-learn.org/dev/modules/generated/sklearn.model_selection.GridSearchCV.html)\n",
    "- [Evaluation - Classification Report](https://scikit-learn.org/1.5/modules/generated/sklearn.metrics.classification_report.html)\n",
    "\n",
    "[Dataset source](https://archive.ics.uci.edu/ml/index.php]): UCI Machine Learning Repository "
   ]
  }
 ],
 "metadata": {
  "kernelspec": {
   "display_name": "DSA5105",
   "language": "python",
   "name": "python3"
  },
  "language_info": {
   "codemirror_mode": {
    "name": "ipython",
    "version": 3
   },
   "file_extension": ".py",
   "mimetype": "text/x-python",
   "name": "python",
   "nbconvert_exporter": "python",
   "pygments_lexer": "ipython3",
   "version": "3.8.10"
  }
 },
 "nbformat": 4,
 "nbformat_minor": 2
}
